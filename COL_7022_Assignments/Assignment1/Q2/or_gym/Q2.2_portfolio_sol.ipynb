{
 "cells": [
  {
   "cell_type": "code",
   "execution_count": null,
   "metadata": {},
   "outputs": [],
   "source": [
    "import numpy as np\n",
    "import itertools\n",
    "from collections import deque\n",
    "import matplotlib.pyplot as plt\n",
    "from scipy.stats import mode\n",
    "import sys\n",
    "import copy\n",
    "import time\n",
    "import random\n",
    "\n",
    "from or_gym.envs.finance.discrete_portfolio_opt import DiscretePortfolioOptEnv"
   ]
  }
 ],
 "metadata": {
  "kernelspec": {
   "display_name": "Python 3 (ipykernel)",
   "language": "python",
   "name": "python3"
  },
  "language_info": {
   "codemirror_mode": {
    "name": "ipython",
    "version": 3
   },
   "file_extension": ".py",
   "mimetype": "text/x-python",
   "name": "python",
   "nbconvert_exporter": "python",
   "pygments_lexer": "ipython3",
   "version": "3.8.5"
  }
 },
 "nbformat": 4,
 "nbformat_minor": 4
}
