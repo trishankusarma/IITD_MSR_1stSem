{
 "cells": [
  {
   "cell_type": "code",
   "execution_count": 1,
   "metadata": {},
   "outputs": [
    {
     "name": "stdout",
     "output_type": "stream",
     "text": [
      "Setting up the environment for knapsack solution!!\n"
     ]
    }
   ],
   "source": [
    "'''\n",
    "Here we will just be implementing the code part that will go inside main\n",
    "before that let me write the steps that we are going to implement\n",
    "\n",
    "What are the things that we need to implement the onlineKnapsack Problem?\n",
    "Let's define the MDP :\n",
    "1. State space \n",
    "   ( timeRemaining, usedCapacity, itemIndex ) -> ( 50 * 200 * 200 )\n",
    "   timeRemaining -> ( 0 to episodeLength )\n",
    "   usedCapacity -> current knapSack capacity\n",
    "   itemIndex -> the index of the item selected\n",
    "2. Action :\n",
    "   accept : if item fits\n",
    "   reject\n",
    "3. Transition :\n",
    "   Next state if itemIndexI is offered = {\n",
    "      if agent rejects moves to -> (timeRemaining−1, usedCapacity, itemIndex)\n",
    "      else if accepts : moves to -> (timeRemaining - 1, usedCapacity + weight[i], itemIndexI)\n",
    "4. Reward:\n",
    "\n",
    "    If accept → reward = value[j]\n",
    "    If reject → reward = 0\n",
    "\n",
    "Next, \n",
    "Let maxm capacity allowed = W\n",
    "\n",
    "Value function :\n",
    "      ValFn(t,C,i)=optimal reward achievable with t steps left, used capacity C, and current item i.\n",
    "    So,\n",
    "      ValFn(0,C,i)=0 ∀C,i ( terminal state ) \n",
    "\n",
    "And policy :\n",
    "π[t, C, i] → policy (0 = reject, 1 = accept\n",
    "\n",
    "3. Bellman update\n",
    "\n",
    "At (timeRemmaining, usedCapacity, itemIndex) with item (weight[i], value[i]):\n",
    "\n",
    "Reject Qreject = Ej∼D​[ValFn(timeRemmaining−1,usedCapacity,j)]\n",
    "\n",
    "Accept only if ( usedCapacity+weight[i] ≤ W ):\n",
    "       Qaccept = value[i] + Ej∼D​[ValFn(timeRemmaining−1,usedCapacity+weight[i],j)]\n",
    "\n",
    "Then,\n",
    "       ValFn[timeRemmaining, usedCapacity, itemIndex ] = max( Qreject, Qaccept )\n",
    "'''\n",
    "print(\"Setting up the environment for knapsack solution!!\")"
   ]
  },
  {
   "cell_type": "code",
   "execution_count": 2,
   "metadata": {},
   "outputs": [
    {
     "name": "stderr",
     "output_type": "stream",
     "text": [
      "Gym has been unmaintained since 2022 and does not support NumPy 2.0 amongst other critical functionality.\n",
      "Please upgrade to Gymnasium, the maintained drop-in replacement of Gym, or contact the authors of your software and request that they upgrade.\n",
      "Users of this version of Gym should be able to simply replace 'import gym' with 'import gymnasium as gym' in the vast majority of cases.\n",
      "See the migration guide at https://gymnasium.farama.org/introduction/migration_guide/ for additional information.\n"
     ]
    },
    {
     "name": "stdout",
     "output_type": "stream",
     "text": [
      "Shape of item_values : (200,)\n",
      "Shape of policy : (51, 201, 200)\n",
      "Shape of valueFn : (51, 201, 200)\n",
      "delta : 0\n",
      "Errors in policy : 1515100\n",
      "delta : 330.9921380899864\n",
      "Errors in policy : 514069\n",
      "delta : 216.12228011808358\n",
      "Errors in policy : 178953\n",
      "delta : 78.92541581983363\n",
      "Errors in policy : 33439\n",
      "delta : 15.324433791412957\n",
      "Errors in policy : 2618\n",
      "delta : 1.4668049060562112\n",
      "Errors in policy : 20\n",
      "delta : 0.03142865185242272\n",
      "Errors in policy : 0\n",
      "The policy iteration took 7 iterations to converge\n"
     ]
    }
   ],
   "source": [
    "from policyIterationOnlineKnapsack import PolicyIterationOnlineKnapsack\n",
    "optimalPolicyPI, optimalValueFnPI = PolicyIterationOnlineKnapsack().run_policy_iteration()"
   ]
  }
 ],
 "metadata": {
  "kernelspec": {
   "display_name": "Python 3 (ipykernel)",
   "language": "python",
   "name": "python3"
  },
  "language_info": {
   "codemirror_mode": {
    "name": "ipython",
    "version": 3
   },
   "file_extension": ".py",
   "mimetype": "text/x-python",
   "name": "python",
   "nbconvert_exporter": "python",
   "pygments_lexer": "ipython3",
   "version": "3.8.5"
  }
 },
 "nbformat": 4,
 "nbformat_minor": 4
}
