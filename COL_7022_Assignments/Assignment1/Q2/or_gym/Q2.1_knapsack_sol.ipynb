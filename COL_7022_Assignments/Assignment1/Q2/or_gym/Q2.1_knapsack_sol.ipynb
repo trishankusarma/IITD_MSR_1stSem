{
 "cells": [
  {
   "cell_type": "code",
   "execution_count": 1,
   "metadata": {},
   "outputs": [
    {
     "name": "stderr",
     "output_type": "stream",
     "text": [
      "Gym has been unmaintained since 2022 and does not support NumPy 2.0 amongst other critical functionality.\n",
      "Please upgrade to Gymnasium, the maintained drop-in replacement of Gym, or contact the authors of your software and request that they upgrade.\n",
      "Users of this version of Gym should be able to simply replace 'import gym' with 'import gymnasium as gym' in the vast majority of cases.\n",
      "See the migration guide at https://gymnasium.farama.org/introduction/migration_guide/ for additional information.\n"
     ]
    }
   ],
   "source": [
    "from or_gym.envs.classic_or.knapsack import OnlineKnapsackEnv"
   ]
  },
  {
   "cell_type": "code",
   "execution_count": 2,
   "metadata": {},
   "outputs": [
    {
     "name": "stdout",
     "output_type": "stream",
     "text": [
      "State for OnlineKnapsackEnv {'state': array([  0, 146,   4,  19]), 'avail_actions': array([1, 1], dtype=uint8), 'action_mask': array([1, 1], dtype=uint8)}\n",
      "Starting Online Knapsack Simulation\n",
      "Initial state: {'state': array([  0, 146,   4,  19]), 'avail_actions': array([1, 1], dtype=uint8), 'action_mask': array([1, 1], dtype=uint8)}\n",
      "1\n",
      "Action: Accept | Reward: 19 | Next state: {'state': array([  4, 137,  99,  46]), 'avail_actions': array([1, 1], dtype=uint8), 'action_mask': array([1, 1], dtype=uint8)} | Done: False\n",
      "0\n",
      "Action: Reject | Reward: 0 | Next state: {'state': array([  4, 191,  14,  68]), 'avail_actions': array([1, 1], dtype=uint8), 'action_mask': array([1, 1], dtype=uint8)} | Done: False\n",
      "1\n",
      "Action: Accept | Reward: 68 | Next state: {'state': array([ 18, 101,  47,   3]), 'avail_actions': array([1, 1], dtype=uint8), 'action_mask': array([1, 1], dtype=uint8)} | Done: False\n",
      "1\n",
      "Action: Accept | Reward: 3 | Next state: {'state': array([ 65, 129,  96,  53]), 'avail_actions': array([1, 1], dtype=uint8), 'action_mask': array([1, 1], dtype=uint8)} | Done: False\n",
      "1\n",
      "Action: Accept | Reward: 53 | Next state: {'state': array([161,  42,   7,   1]), 'avail_actions': array([1, 1], dtype=uint8), 'action_mask': array([1, 1], dtype=uint8)} | Done: False\n",
      "1\n",
      "Action: Accept | Reward: 1 | Next state: {'state': array([168, 162,  97,  88]), 'avail_actions': array([1, 1], dtype=uint8), 'action_mask': array([1, 0], dtype=uint8)} | Done: False\n",
      "1\n",
      "Action: Accept | Reward: 0 | Next state: {'state': array([168,  27,  65,  55]), 'avail_actions': array([1, 1], dtype=uint8), 'action_mask': array([1, 0], dtype=uint8)} | Done: True\n",
      "Episode finished. Total reward: 144\n"
     ]
    }
   ],
   "source": [
    "env=OnlineKnapsackEnv()\n",
    "state=env._RESET()\n",
    "print(f\"State for OnlineKnapsackEnv {state}\")\n",
    "\n",
    "total_reward = 0\n",
    "done = False\n",
    "\n",
    "###################### Random sampling #####################################################\n",
    "\n",
    "print(\"Starting Online Knapsack Simulation\")\n",
    "print(\"Initial state:\", state)\n",
    "\n",
    "# Run simulation until episode ends\n",
    "while not done:\n",
    "    # Choose an action randomly: 0 (reject) or 1 (accept)\n",
    "    action = env.sample_action()\n",
    "    print(action)\n",
    "    # Take a step in the environment\n",
    "    next_state, reward, done, info = env._STEP(action)\n",
    "        \n",
    "    total_reward += reward\n",
    "    print(f\"Action: {'Accept' if action == 1 else 'Reject'} | Reward: {reward} | Next state: {next_state} | Done: {done}\")\n",
    "    exit()\n",
    "print(f\"Episode finished. Total reward: {total_reward}\")"
   ]
  },
  {
   "cell_type": "code",
   "execution_count": null,
   "metadata": {},
   "outputs": [],
   "source": []
  }
 ],
 "metadata": {
  "kernelspec": {
   "display_name": "Python 3 (ipykernel)",
   "language": "python",
   "name": "python3"
  },
  "language_info": {
   "codemirror_mode": {
    "name": "ipython",
    "version": 3
   },
   "file_extension": ".py",
   "mimetype": "text/x-python",
   "name": "python",
   "nbconvert_exporter": "python",
   "pygments_lexer": "ipython3",
   "version": "3.8.5"
  }
 },
 "nbformat": 4,
 "nbformat_minor": 4
}
