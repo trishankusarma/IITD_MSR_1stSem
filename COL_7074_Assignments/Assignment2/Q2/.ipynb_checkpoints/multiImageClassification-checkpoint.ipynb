{
 "cells": [
  {
   "cell_type": "code",
   "execution_count": 1,
   "metadata": {},
   "outputs": [],
   "source": [
    "import pandas as pd\n",
    "import os\n",
    "from utils import buildDataset\n",
    "import numpy as np\n",
    "from svm import SupportVectorMachine\n",
    "\n",
    "# for validation\n",
    "from sklearn import svm\n",
    "from sklearn.metrics import accuracy_score, classification_report\n",
    "from sklearn.preprocessing import StandardScaler"
   ]
  },
  {
   "cell_type": "code",
   "execution_count": 2,
   "metadata": {},
   "outputs": [
    {
     "name": "stdout",
     "output_type": "stream",
     "text": [
      "Running for classes : range(0, 11)\n"
     ]
    }
   ],
   "source": [
    "# Question 2:: Multi Image Classification\n",
    "inputClasses = range(10)\n",
    "print(f\"Running for classes : {inputClasses}\")"
   ]
  },
  {
   "cell_type": "code",
   "execution_count": 3,
   "metadata": {},
   "outputs": [
    {
     "name": "stdout",
     "output_type": "stream",
     "text": [
      "------Building train set------\n",
      "Loaded airplane → X: (1667, 3072), y: (1667,)\n",
      "Loaded automobile → X: (1667, 3072), y: (1667,)\n",
      "Loaded bird → X: (1667, 3072), y: (1667,)\n",
      "Loaded cat → X: (1667, 3072), y: (1667,)\n",
      "Loaded deer → X: (1667, 3072), y: (1667,)\n",
      "Loaded dog → X: (1667, 3072), y: (1667,)\n",
      "Loaded frog → X: (1667, 3072), y: (1667,)\n",
      "Loaded horse → X: (1667, 3072), y: (1667,)\n",
      "Loaded ship → X: (1667, 3072), y: (1667,)\n",
      "Loaded truck → X: (1667, 3072), y: (1667,)\n"
     ]
    },
    {
     "ename": "IndexError",
     "evalue": "list index out of range",
     "output_type": "error",
     "traceback": [
      "\u001b[31m---------------------------------------------------------------------------\u001b[39m",
      "\u001b[31mIndexError\u001b[39m                                Traceback (most recent call last)",
      "\u001b[36mCell\u001b[39m\u001b[36m \u001b[39m\u001b[32mIn[3]\u001b[39m\u001b[32m, line 2\u001b[39m\n\u001b[32m      1\u001b[39m \u001b[38;5;28mprint\u001b[39m(\u001b[33m\"\u001b[39m\u001b[33m------Building train set------\u001b[39m\u001b[33m\"\u001b[39m)\n\u001b[32m----> \u001b[39m\u001b[32m2\u001b[39m trainingSet = \u001b[43mbuildDataset\u001b[49m\u001b[43m(\u001b[49m\u001b[43mbasePath\u001b[49m\u001b[43m=\u001b[49m\u001b[33;43m\"\u001b[39;49m\u001b[33;43mtrain\u001b[39;49m\u001b[33;43m\"\u001b[39;49m\u001b[43m,\u001b[49m\u001b[43m \u001b[49m\u001b[43minputClasses\u001b[49m\u001b[43m \u001b[49m\u001b[43m=\u001b[49m\u001b[43m \u001b[49m\u001b[43minputClasses\u001b[49m\u001b[43m)\u001b[49m\n\u001b[32m      3\u001b[39m trainingSet.head()\n",
      "\u001b[36mFile \u001b[39m\u001b[32m~/Trishanku Sarma/IITD_MSR_1stSem/COL_7074_Assignments/Assignment2/Q2/utils.py:36\u001b[39m, in \u001b[36mbuildDataset\u001b[39m\u001b[34m(basePath, inputClasses)\u001b[39m\n\u001b[32m     33\u001b[39m data_y = []\n\u001b[32m     35\u001b[39m \u001b[38;5;28;01mfor\u001b[39;00m idx, class_idx \u001b[38;5;129;01min\u001b[39;00m \u001b[38;5;28menumerate\u001b[39m(inputClasses):\n\u001b[32m---> \u001b[39m\u001b[32m36\u001b[39m     class_label = \u001b[43mclass_names\u001b[49m\u001b[43m[\u001b[49m\u001b[43mclass_idx\u001b[49m\u001b[43m]\u001b[49m\n\u001b[32m     37\u001b[39m     label_value = +\u001b[32m1\u001b[39m \u001b[38;5;28;01mif\u001b[39;00m idx == \u001b[32m0\u001b[39m \u001b[38;5;28;01melse\u001b[39;00m -\u001b[32m1\u001b[39m   \u001b[38;5;66;03m# first class → +1, second → -1\u001b[39;00m\n\u001b[32m     38\u001b[39m     X, y = load_images_from_folder(os.path.join(basePath, class_label), label_value)\n",
      "\u001b[31mIndexError\u001b[39m: list index out of range"
     ]
    }
   ],
   "source": [
    "print(\"------Building train set------\")\n",
    "trainingSet = buildDataset(basePath=\"train\", inputClasses = inputClasses)\n",
    "trainingSet.head()"
   ]
  },
  {
   "cell_type": "code",
   "execution_count": null,
   "metadata": {},
   "outputs": [],
   "source": [
    "print(\"------Building test set------\")\n",
    "testingSet = buildDataset(basePath=\"test\", inputClasses = inputClasses)\n",
    "testingSet.head()"
   ]
  },
  {
   "cell_type": "code",
   "execution_count": null,
   "metadata": {},
   "outputs": [],
   "source": [
    "svm = SupportVectorMachine()\n",
    "X_train, y_train = trainingSet.iloc[:, :-1], trainingSet.iloc[:, -1]\n",
    "svm.fit(X_train, y_train, kernel='linear', C=1.0)\n",
    "\n",
    "print(\"nTraining for Linear custom SVM\")\n",
    "preds = svm.predict(X_train)\n",
    "print(\"Train Accuracy:\", np.mean(preds == y_train))\n",
    "\n",
    "X_test, y_test = testingSet.iloc[:, :-1], testingSet.iloc[:, -1]\n",
    "\n",
    "preds = svm.predict(X_test)\n",
    "print(\"Test Accuracy:\", np.mean(preds == y_test))"
   ]
  },
  {
   "cell_type": "code",
   "execution_count": null,
   "metadata": {},
   "outputs": [],
   "source": [
    "svm = SupportVectorMachine()\n",
    "X_train, y_train = trainingSet.iloc[:, :-1], trainingSet.iloc[:, -1]\n",
    "svm.fit(X_train, y_train, kernel='gaussian', C=1.0)\n",
    "\n",
    "print(\"nTraining for Gaussian custom SVM\")\n",
    "preds = svm.predict(X_train)\n",
    "print(\"Train Accuracy:\", np.mean(preds == y_train))\n",
    "\n",
    "X_test, y_test = testingSet.iloc[:, :-1], testingSet.iloc[:, -1]\n",
    "\n",
    "preds = svm.predict(X_test)\n",
    "print(\"Test Accuracy:\", np.mean(preds == y_test))"
   ]
  },
  {
   "cell_type": "code",
   "execution_count": null,
   "metadata": {},
   "outputs": [],
   "source": [
    "# -------------------------\n",
    "# Step 3: Train sklearn (LIBSVM-based) SVM\n",
    "# -------------------------\n",
    "print(\"\\nTraining scikit-learn SVM...\")\n",
    "X_train, y_train = trainingSet.iloc[:, :-1], trainingSet.iloc[:, -1]\n",
    "sk_svm = svm.SVC(kernel='linear', C=1.0)  # or kernel='rbf', gamma=0.001\n",
    "sk_svm.fit(X_train, y_train)\n",
    "\n",
    "# Train accuracy\n",
    "y_pred_sklearn = sk_svm.predict(X_train)\n",
    "\n",
    "acc_sk = accuracy_score(y_train, y_pred_sklearn)\n",
    "print(f\"scikit-learn SVM train Accuracy using Linear Kernel: {acc_sk * 100:.2f}%\")\n",
    "\n",
    "X_test, y_test = testingSet.iloc[:, :-1], testingSet.iloc[:, -1]\n",
    "\n",
    "# Test accuracy\n",
    "y_pred_sklearn = sk_svm.predict(X_test)\n",
    "\n",
    "acc_sk = accuracy_score(y_test, y_pred_sklearn)\n",
    "print(f\"scikit-learn SVM test Accuracy using Linear Kernel: {acc_sk * 100:.2f}%\")"
   ]
  },
  {
   "cell_type": "code",
   "execution_count": null,
   "metadata": {},
   "outputs": [],
   "source": [
    "# -------------------------\n",
    "# Step 3: Train sklearn (LIBSVM-based) SVM\n",
    "# -------------------------\n",
    "print(\"\\nTraining scikit-learn SVM...\")\n",
    "X_train, y_train = trainingSet.iloc[:, :-1], trainingSet.iloc[:, -1]\n",
    "sk_svm = svm.SVC(kernel='rbf', C=1.0)  # or kernel='rbf', gamma=0.001\n",
    "sk_svm.fit(X_train, y_train)\n",
    "\n",
    "# Training accuracy\n",
    "y_pred_sklearn = sk_svm.predict(X_train)\n",
    "\n",
    "acc_sk = accuracy_score(y_train, y_pred_sklearn)\n",
    "print(f\"scikit-learn SVM train Accuracy using Linear Kernel: {acc_sk * 100:.2f}%\")\n",
    "\n",
    "X_test, y_test = testingSet.iloc[:, :-1], testingSet.iloc[:, -1]\n",
    "\n",
    "# Test Accuracy\n",
    "y_pred_sklearn = sk_svm.predict(X_test)\n",
    "\n",
    "acc_sk = accuracy_score(y_test, y_pred_sklearn)\n",
    "print(f\"scikit-learn SVM Test Accuracy using gaussian kernel: {acc_sk * 100:.2f}%\")"
   ]
  },
  {
   "cell_type": "code",
   "execution_count": null,
   "metadata": {},
   "outputs": [],
   "source": []
  }
 ],
 "metadata": {
  "kernelspec": {
   "display_name": "Python 3 (ipykernel)",
   "language": "python",
   "name": "python3"
  },
  "language_info": {
   "codemirror_mode": {
    "name": "ipython",
    "version": 3
   },
   "file_extension": ".py",
   "mimetype": "text/x-python",
   "name": "python",
   "nbconvert_exporter": "python",
   "pygments_lexer": "ipython3",
   "version": "3.13.3"
  }
 },
 "nbformat": 4,
 "nbformat_minor": 4
}
